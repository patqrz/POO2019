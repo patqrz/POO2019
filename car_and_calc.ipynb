{
  "cells": [
    {
      "metadata": {
        "_cell_guid": "79c7e3d0-c299-4dcb-8224-4455121ee9b0",
        "_uuid": "d629ff2d2480ee46fbb7e2d37f6b5fab8052498a",
        "trusted": true
      },
      "cell_type": "code",
      "source": "class Car:\n    def __init__(self):\n        self.pas = 0\n        self.color = \"Blue\"\n        self.km = 0\n        self.fuel = 0\n        self.lim_pass = 2\n        self.lim_fuel = 10\n    \n    def entrar(self):\n        if self.pas < self.lim_pass:\n            self.pas += 1\n        else:\n            print(\"fail: limite de pessoas atingido\")\n\n    def tirar(self):\n        if self.pas > 0:\n            self.pas -= 1\n        else:\n            print(\"fail: nao ha ninguem no carro\")\n    \n    def abastecer(self, qtd):\n        self.fuel += qtd\n        if(self.fuel > self.lim_fuel):\n            self.fuel = self.lim_fuel\n    def colorir(self, color):\n        self.color = color\n        \n        \n    def drive(self, distancia):\n        if self.pas == 0:\n            print(\"fail: nao ha ninguem no carro\")\n            return\n\n        fuel_needed = distancia / 10\n        if(self.fuel >= fuel_needed):\n            self.km += distancia\n            self.fuel -= fuel_needed\n        else:\n            print(\"fail: gasolina insuficiente\")\n\n\n    def __str__(self):\n        return \"pass: \" + str(self.pas) + \", gas: \" + \\\n                str(self.fuel) + \", km: \" + str(self.km)\n\n",
      "execution_count": null,
      "outputs": []
    },
    {
      "metadata": {
        "trusted": true,
        "_uuid": "6d32411e08ee2c28582d5a3b4b6c0ce3c1eb9709"
      },
      "cell_type": "code",
      "source": "carro = Car()\nline = \"\"\nprint(\"Digite show, in, out, fuel _qtd, drive _dist, end\")\nwhile(line != \"end\"):\n    line = input()\n    ui = line.split(\" \")\n\n    if ui[0] == \"end\":\n        break\n    elif ui[0] == \"sendhow\":\n        print(carro)\n    elif ui[0] == \"in\":\n        carro.entrar()\n    elif ui[0] == \"out\":\n        carro.tirar()\n    elif ui[0] == \"fuel\":\n        carro.abastecer(int(ui[1]))\n    elif ui[0] == \"drive\":\n        carro.drive(int(ui[1])) \n    else:\n        print(\"fail: comando invalido\")",
      "execution_count": null,
      "outputs": []
    },
    {
      "metadata": {
        "trusted": true,
        "_uuid": "de5ef7697c7772c2d188efee2eee384bfb19288b"
      },
      "cell_type": "code",
      "source": "class Calculadora():\n    def __init__(self):\n        self.bateria = 0\n    \n    def sum(self, a,b):\n        if(self.bateria > 0):\n            self.bateria -= 1\n            return a+b\n        else: \n            return \"Bateria insuficiente\"\n        \n    def div(self, a, b):\n        if(self.bateria > 0):\n            self.bateria -= 1\n            if (b == 0):\n                return \"Divisão por 0\"\n            return a/b\n        else: \n            return \"Bateria insuficiente\"\n    \n    def mult(self, a, b):\n        if self.bateria > 0:\n            self.bateria -= 1\n            return a*b\n        else: \n            return \"Bateria insuficiente\"\n    \n    def charge(self, m):\n        self.bateria += m\n    \n    def __str__(self):\n        return \"bateria: \" + str(self.bateria) \n    \n    \n            ",
      "execution_count": null,
      "outputs": []
    },
    {
      "metadata": {
        "trusted": true,
        "_uuid": "8cc862921cd38a90d1229e4b7a97cf13d5f6d0e8"
      },
      "cell_type": "code",
      "source": "calc = Calculadora()",
      "execution_count": 99,
      "outputs": []
    },
    {
      "metadata": {
        "trusted": true,
        "_uuid": "cbe9e2e9a5c96caee33cd177f80e18f1aa7292b8"
      },
      "cell_type": "code",
      "source": "print(calc)",
      "execution_count": 100,
      "outputs": [
        {
          "output_type": "stream",
          "text": "bateria: 0\n",
          "name": "stdout"
        }
      ]
    },
    {
      "metadata": {
        "trusted": true,
        "_uuid": "0e847fd49d8d45007695304fcd5b288adf1b9f86"
      },
      "cell_type": "code",
      "source": "calc.charge(2)",
      "execution_count": 101,
      "outputs": []
    },
    {
      "metadata": {
        "trusted": true,
        "_uuid": "86e8dd2ee927654d3bb2c456c3feeea0f082dc9c"
      },
      "cell_type": "code",
      "source": "print(calc)",
      "execution_count": 102,
      "outputs": [
        {
          "output_type": "stream",
          "text": "bateria: 2\n",
          "name": "stdout"
        }
      ]
    },
    {
      "metadata": {
        "trusted": true,
        "_uuid": "bd7577ee5812a3adb06e63922e36802cd7dbb7bd"
      },
      "cell_type": "code",
      "source": "calc.div(2,0)",
      "execution_count": 103,
      "outputs": [
        {
          "output_type": "execute_result",
          "execution_count": 103,
          "data": {
            "text/plain": "'Divisão por 0'"
          },
          "metadata": {}
        }
      ]
    },
    {
      "metadata": {
        "trusted": true,
        "_uuid": "03913e39999aa16134a3ce3030cb64be93ad4445"
      },
      "cell_type": "code",
      "source": "print(calc)",
      "execution_count": 104,
      "outputs": [
        {
          "output_type": "stream",
          "text": "bateria: 1\n",
          "name": "stdout"
        }
      ]
    }
  ],
  "metadata": {
    "kernelspec": {
      "display_name": "Python 3",
      "language": "python",
      "name": "python3"
    },
    "language_info": {
      "name": "python",
      "version": "3.6.6",
      "mimetype": "text/x-python",
      "codemirror_mode": {
        "name": "ipython",
        "version": 3
      },
      "pygments_lexer": "ipython3",
      "nbconvert_exporter": "python",
      "file_extension": ".py"
    }
  },
  "nbformat": 4,
  "nbformat_minor": 1
}