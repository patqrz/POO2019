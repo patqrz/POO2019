{
  "cells": [
    {
      "metadata": {
        "trusted": true,
        "_uuid": "65fa056358b5a68b99ee1a06cbd5fa4248bc5a47"
      },
      "cell_type": "code",
      "source": "class Calculadora():\n    def __init__(self, maxBat):\n        self.bateria = 0\n        self.maxBat = maxBat\n    \n    def sum(self, a,b):\n        if(self.bateria > 0):\n            self.bateria -= 1\n            return a+b\n        else: \n            return \"Bateria insuficiente\"\n        \n    def div(self, a, b):\n        if(self.bateria > 0):\n            self.bateria -= 1\n            if (b == 0):\n                return \"Divisão por 0\"\n            return a/b\n        else: \n            return \"Bateria insuficiente\"\n    \n    def mult(self, a, b):\n        if self.bateria > 0:\n            self.bateria -= 1\n            return a*b\n        else: \n            return \"Bateria insuficiente\"\n    \n    def charge(self, m):\n        if (m<= self.maxBat):\n            self.bateria += m\n    \n    def __str__(self):\n      return \"bateria: \" + str(self.bateria) + \"/\" + str(self.maxBat)",
      "execution_count": 10,
      "outputs": []
    },
    {
      "metadata": {
        "trusted": true,
        "_uuid": "ead0db6ec7ede350f413c963b24a8c44d593bdaa"
      },
      "cell_type": "code",
      "source": "\ncalc = Calculadora(0)\n\nprint (\"Digite init _maxCarga, charge _value, sum _a _b, div _a _b, mult _a _b, show ou end\")\nline = \" \"\nwhile line != \"end\":\n  line = input()\n  ui = line.split(\" \")\n  \n  if ui[0] == \"end\":\n    break\n  elif ui[0] ==\"show\":\n    print(calc)\n  elif ui[0] == \"init\":\n    calc.maxBat = int(ui[1])\n  elif ui[0] == \"charge\":\n    calc.charge(int(ui[1]))\n  elif ui[0] == \"sum\":\n    a = (int(ui[1]))\n    b = (int(ui[2]))\n    print(calc.sum(a,b))\n  elif ui[0] == \"div\":\n    a = (int(ui[1]))\n    b = (int(ui[2]))\n    print(calc.div(a,b))\n  elif ui[0] == \"mult\":\n    a = (int(ui[1]))\n    b = (int(ui[2]))\n    print(calc.mult(a,b))\n  else:\n    print (\"Comando invalido\")\n",
      "execution_count": null,
      "outputs": []
    },
    {
      "metadata": {
        "trusted": true,
        "_uuid": "120b2ef1720982ba4eee93aa9a715ba08ad582f0"
      },
      "cell_type": "code",
      "source": "print(calc)",
      "execution_count": null,
      "outputs": []
    },
    {
      "metadata": {
        "trusted": true,
        "_uuid": "277282a3c540e1cb45746691bd13bfbea34761e6"
      },
      "cell_type": "code",
      "source": "div 1 0",
      "execution_count": null,
      "outputs": []
    }
  ],
  "metadata": {
    "kernelspec": {
      "display_name": "Python 3",
      "language": "python",
      "name": "python3"
    },
    "language_info": {
      "name": "python",
      "version": "3.6.6",
      "mimetype": "text/x-python",
      "codemirror_mode": {
        "name": "ipython",
        "version": 3
      },
      "pygments_lexer": "ipython3",
      "nbconvert_exporter": "python",
      "file_extension": ".py"
    }
  },
  "nbformat": 4,
  "nbformat_minor": 1
}