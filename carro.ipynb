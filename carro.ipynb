{
  "cells": [
    {
      "metadata": {
        "_cell_guid": "79c7e3d0-c299-4dcb-8224-4455121ee9b0",
        "_uuid": "d629ff2d2480ee46fbb7e2d37f6b5fab8052498a",
        "trusted": true
      },
      "cell_type": "code",
      "source": "class Car:\n    def __init__(self):\n        self.pas = 0\n        self.color = \"Blue\"\n        self.km = 0\n        self.fuel = 0\n        self.lim_pass = 2\n        self.lim_fuel = 10\n    \n    def entrar(self):\n        if self.pas < self.lim_pass:\n            self.pas += 1\n        else:\n            print(\"fail: limite de pessoas atingido\")\n\n    def tirar(self):\n        if self.pas > 0:\n            self.pas -= 1\n        else:\n            print(\"fail: nao ha ninguem no carro\")\n    \n    def abastecer(self, qtd):\n        self.fuel += qtd\n        if(self.fuel > self.lim_fuel):\n            self.fuel = self.lim_fuel\n    def colorir(self, color):\n        self.color = color\n        \n        \n    def drive(self, distancia):\n        if self.pas == 0:\n            print(\"fail: nao ha ninguem no carro\")\n            return\n\n        fuel_needed = distancia / 10\n        if(self.fuel >= fuel_needed):\n            self.km += distancia\n            self.fuel -= fuel_needed\n        else:\n            print(\"fail: gasolina insuficiente\")\n\n\n    def __str__(self):\n        return \"pass: \" + str(self.pas) + \", gas: \" + \\\n                str(self.fuel) + \", km: \" + str(self.km)",
      "execution_count": 2,
      "outputs": []
    },
    {
      "metadata": {
        "trusted": true,
        "_uuid": "339ed1785351a942ca40ecbda2b7850d2e7b1668"
      },
      "cell_type": "code",
      "source": "carro = Car()\nline = \"\"\nprint(\"Digite show, in, out, fuel _qtd, drive _dist, end\")\nwhile(line != \"end\"):\n    line = input()\n    ui = line.split(\" \")\n\n    if ui[0] == \"end\":\n        break\n    elif ui[0] == \"sendhow\":\n        print(carro)\n    elif ui[0] == \"in\":\n        carro.entrar()\n    elif ui[0] == \"out\":\n        carro.tirar()\n    elif ui[0] == \"fuel\":\n        carro.abastecer(int(ui[1]))\n    elif ui[0] == \"drive\":\n        carro.drive(int(ui[1])) \n    else:\n        print(\"fail: comando invalido\")",
      "execution_count": null,
      "outputs": []
    }
  ],
  "metadata": {
    "kernelspec": {
      "display_name": "Python 3",
      "language": "python",
      "name": "python3"
    },
    "language_info": {
      "name": "python",
      "version": "3.6.6",
      "mimetype": "text/x-python",
      "codemirror_mode": {
        "name": "ipython",
        "version": 3
      },
      "pygments_lexer": "ipython3",
      "nbconvert_exporter": "python",
      "file_extension": ".py"
    }
  },
  "nbformat": 4,
  "nbformat_minor": 1
}